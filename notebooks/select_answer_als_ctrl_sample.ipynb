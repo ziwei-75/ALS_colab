{
 "cells": [
  {
   "cell_type": "code",
   "execution_count": 2,
   "id": "12dac70c",
   "metadata": {},
   "outputs": [],
   "source": [
    "import glob\n",
    "import subprocess\n",
    "control_bams=glob.glob(\"/oak/stanford/groups/akundaje/ziwei75/ALS_colab/answer_ALS/2_bam/CTRL*\")"
   ]
  },
  {
   "cell_type": "code",
   "execution_count": 4,
   "id": "6e94ba5a",
   "metadata": {
    "scrolled": true
   },
   "outputs": [
    {
     "name": "stderr",
     "output_type": "stream",
     "text": [
      " 64%|█████████████████████████████████████████████████████████████████████████████████████████▌                                                 | 29/45 [22:45<13:33, 50.87s/it]sh: 0: getcwd() failed: No such file or directory\n",
      " 69%|███████████████████████████████████████████████████████████████████████████████████████████████▊                                           | 31/45 [23:56<10:33, 45.22s/it]sh: 0: getcwd() failed: No such file or directory\n",
      " 73%|█████████████████████████████████████████████████████████████████████████████████████████████████████▉                                     | 33/45 [25:20<08:49, 44.16s/it]sh: 0: getcwd() failed: No such file or directory\n",
      " 76%|█████████████████████████████████████████████████████████████████████████████████████████████████████████                                  | 34/45 [26:33<09:08, 49.86s/it]sh: 0: getcwd() failed: No such file or directory\n",
      " 78%|████████████████████████████████████████████████████████████████████████████████████████████████████████████                               | 35/45 [27:51<09:19, 55.96s/it]sh: 0: getcwd() failed: No such file or directory\n",
      " 84%|█████████████████████████████████████████████████████████████████████████████████████████████████████████████████████▍                     | 38/45 [29:00<03:46, 32.42s/it]sh: 0: getcwd() failed: No such file or directory\n",
      " 87%|████████████████████████████████████████████████████████████████████████████████████████████████████████████████████████▍                  | 39/45 [30:16<04:26, 44.34s/it]sh: 0: getcwd() failed: No such file or directory\n",
      " 89%|███████████████████████████████████████████████████████████████████████████████████████████████████████████████████████████▌               | 40/45 [32:52<06:20, 76.02s/it]sh: 0: getcwd() failed: No such file or directory\n",
      " 91%|██████████████████████████████████████████████████████████████████████████████████████████████████████████████████████████████▋            | 41/45 [34:13<05:09, 77.40s/it]sh: 0: getcwd() failed: No such file or directory\n",
      " 96%|████████████████████████████████████████████████████████████████████████████████████████████████████████████████████████████████████▊      | 43/45 [35:17<01:53, 56.81s/it]sh: 0: getcwd() failed: No such file or directory\n",
      "100%|███████████████████████████████████████████████████████████████████████████████████████████████████████████████████████████████████████████| 45/45 [36:37<00:00, 48.82s/it]\n"
     ]
    }
   ],
   "source": [
    "read_counts = \n",
    "import os\n",
    "from tqdm import tqdm\n",
    "\n",
    "\n",
    "for b in tqdm(control_bams):\n",
    "    bam=glob.glob(b+'/*/*.bam')\n",
    "\n",
    "    if len(bam) ==1:      \n",
    "        bam=bam[0]\n",
    "        cmd = \"samtools view -c %s\"%bam\n",
    "        count = subprocess.check_output(cmd,shell=True)\n",
    "        read_counts[bam] = count"
   ]
  },
  {
   "cell_type": "code",
   "execution_count": 17,
   "id": "9c9fbb70",
   "metadata": {
    "scrolled": true
   },
   "outputs": [],
   "source": [
    "top5_samples = sorted(read_counts.items(), key=lambda kv: int(kv[1].strip()),reverse=True)[:5]"
   ]
  },
  {
   "cell_type": "code",
   "execution_count": 20,
   "id": "e13c4233",
   "metadata": {},
   "outputs": [],
   "source": [
    "sample_list = []\n",
    "for sample, count in top5_samples:\n",
    "    sample_list += [sample]"
   ]
  },
  {
   "cell_type": "code",
   "execution_count": 21,
   "id": "fba0af7d",
   "metadata": {},
   "outputs": [
    {
     "data": {
      "text/plain": [
       "['/oak/stanford/groups/akundaje/ziwei75/ALS_colab/answer_ALS/2_bam/CTRL-NEUFL733GX5/CTRL-NEUFL733GX5-7759-E/CTRL-NEUFL733GX5-7759-E_1.trim.nodup.no_chrM_MT.bam',\n",
       " '/oak/stanford/groups/akundaje/ziwei75/ALS_colab/answer_ALS/2_bam/CTRL-NEUAA485DZL/CTRL-NEUAA485DZL-7577-E/CTRL-NEUAA485DZL-7577-E_1.trim.nodup.no_chrM_MT.bam',\n",
       " '/oak/stanford/groups/akundaje/ziwei75/ALS_colab/answer_ALS/2_bam/CTRL-NEUPL878MTL/CTRL-NEUPL878MTL-6345-E/CTRL-NEUPL878MTL-6345-E_1.trim.nodup.no_chrM_MT.bam',\n",
       " '/oak/stanford/groups/akundaje/ziwei75/ALS_colab/answer_ALS/2_bam/CTRL-NEUDT762KUL/CTRL-NEUDT762KUL-6908-E/CTRL-NEUDT762KUL-6908-E_1.trim.nodup.no_chrM_MT.bam',\n",
       " '/oak/stanford/groups/akundaje/ziwei75/ALS_colab/answer_ALS/2_bam/CTRL-NEUMF089KLV/CTRL-NEUMF089KLV-6978-E/CTRL-NEUMF089KLV-6978-E_1.trim.nodup.no_chrM_MT.bam']"
      ]
     },
     "execution_count": 21,
     "metadata": {},
     "output_type": "execute_result"
    }
   ],
   "source": [
    "sample_list"
   ]
  },
  {
   "cell_type": "code",
   "execution_count": 22,
   "id": "efe52df8",
   "metadata": {},
   "outputs": [
    {
     "data": {
      "text/plain": [
       "[('/oak/stanford/groups/akundaje/ziwei75/ALS_colab/answer_ALS/2_bam/CTRL-NEUFL733GX5/CTRL-NEUFL733GX5-7759-E/CTRL-NEUFL733GX5-7759-E_1.trim.nodup.no_chrM_MT.bam',\n",
       "  b'101075350\\n'),\n",
       " ('/oak/stanford/groups/akundaje/ziwei75/ALS_colab/answer_ALS/2_bam/CTRL-NEUAA485DZL/CTRL-NEUAA485DZL-7577-E/CTRL-NEUAA485DZL-7577-E_1.trim.nodup.no_chrM_MT.bam',\n",
       "  b'93275846\\n'),\n",
       " ('/oak/stanford/groups/akundaje/ziwei75/ALS_colab/answer_ALS/2_bam/CTRL-NEUPL878MTL/CTRL-NEUPL878MTL-6345-E/CTRL-NEUPL878MTL-6345-E_1.trim.nodup.no_chrM_MT.bam',\n",
       "  b'85921434\\n'),\n",
       " ('/oak/stanford/groups/akundaje/ziwei75/ALS_colab/answer_ALS/2_bam/CTRL-NEUDT762KUL/CTRL-NEUDT762KUL-6908-E/CTRL-NEUDT762KUL-6908-E_1.trim.nodup.no_chrM_MT.bam',\n",
       "  b'79402490\\n'),\n",
       " ('/oak/stanford/groups/akundaje/ziwei75/ALS_colab/answer_ALS/2_bam/CTRL-NEUMF089KLV/CTRL-NEUMF089KLV-6978-E/CTRL-NEUMF089KLV-6978-E_1.trim.nodup.no_chrM_MT.bam',\n",
       "  b'74345584\\n')]"
      ]
     },
     "execution_count": 22,
     "metadata": {},
     "output_type": "execute_result"
    }
   ],
   "source": [
    "top5_samples"
   ]
  },
  {
   "cell_type": "markdown",
   "id": "1d53936d",
   "metadata": {},
   "source": [
    "### merge peaks"
   ]
  },
  {
   "cell_type": "code",
   "execution_count": 4,
   "id": "b451dad2",
   "metadata": {},
   "outputs": [],
   "source": [
    "top5_samples=[\"CTRL-NEUFL733GX5\",\"CTRL-NEUAA485DZL\",\"CTRL-NEUPL878MTL\",\"CTRL-NEUDT762KUL\",\"CTRL-NEUMF089KLV\"]\n"
   ]
  },
  {
   "cell_type": "code",
   "execution_count": 23,
   "id": "92a3d8ab",
   "metadata": {
    "scrolled": true
   },
   "outputs": [
    {
     "name": "stderr",
     "output_type": "stream",
     "text": [
      "100%|█████████████████████████████████████████████████████████████████████████████████████████████████████████████████████████████████████████████| 5/5 [00:32<00:00,  6.51s/it]\n"
     ]
    }
   ],
   "source": [
    "import glob\n",
    "from tqdm import tqdm\n",
    "import pandas as pd\n",
    "total_peaks=[]\n",
    "for s in tqdm(top5_samples):\n",
    "    peak = \"/oak/stanford/groups/akundaje/ziwei75/ALS_colab/answer_ALS/3_peaks/%s\"%s\n",
    "    peak=glob.glob(peak+\"/*/*narrowPeak.gz\")\n",
    "    assert len(peak) == 1\n",
    "    peak=peak[0]\n",
    "    peak=pd.read_csv(peak,sep='\\t',header=None)\n",
    "    for i, row in peak.iterrows():\n",
    "        chromo,start,end=row.values[:3]\n",
    "        summit = row[9]\n",
    "        summit = start + summit\n",
    "        start = summit - 150\n",
    "        end = summit + 150\n",
    "        total_peaks += [[chromo,start,end]]"
   ]
  },
  {
   "cell_type": "code",
   "execution_count": 27,
   "id": "ac72bbac",
   "metadata": {},
   "outputs": [],
   "source": [
    "total_peaks=pd.DataFrame(total_peaks)"
   ]
  },
  {
   "cell_type": "code",
   "execution_count": 30,
   "id": "30d3f2cb",
   "metadata": {},
   "outputs": [],
   "source": [
    "total_peaks.to_csv(\"/oak/stanford/groups/akundaje/ziwei75/ALS_colab/answer_ALS/chrombpnet_input/all_peaks_pooled.bed\",\\\n",
    "                  sep='\\t',index=False,header=None)"
   ]
  },
  {
   "cell_type": "code",
   "execution_count": 36,
   "id": "1ad90dc9",
   "metadata": {},
   "outputs": [],
   "source": [
    "merged_peaks=pd.read_csv(\"/oak/stanford/groups/akundaje/ziwei75/ALS_colab/answer_ALS/chrombpnet_input/all_peaks_pooled.merged.bed\",\\\n",
    "           sep='\\t',header=None)"
   ]
  },
  {
   "cell_type": "code",
   "execution_count": 42,
   "id": "fb82d53d",
   "metadata": {},
   "outputs": [],
   "source": [
    "formatted_peaks=[]\n",
    "for i, row in merged_peaks.iterrows():\n",
    "    chromo,start,end = row.values\n",
    "    new_row=[chromo,start,end,\"-\",\"-\",\"-\",\"-\",\"-\",\"-\",(end-start)//2]\n",
    "    formatted_peaks += [new_row]"
   ]
  },
  {
   "cell_type": "code",
   "execution_count": 44,
   "id": "dc7969dc",
   "metadata": {},
   "outputs": [],
   "source": [
    "formatted_peak=pd.DataFrame(formatted_peaks)"
   ]
  },
  {
   "cell_type": "code",
   "execution_count": 46,
   "id": "68047266",
   "metadata": {},
   "outputs": [],
   "source": [
    "formatted_peak.to_csv(\"/oak/stanford/groups/akundaje/ziwei75/ALS_colab/answer_ALS/chrombpnet_input/merged_overlap_optimal_peaks.narrowPeak\",\\\n",
    "                     index=False,\n",
    "                     header=None,\\\n",
    "                     sep='\\t')\n",
    "\n"
   ]
  },
  {
   "cell_type": "code",
   "execution_count": null,
   "id": "2872a2e2",
   "metadata": {},
   "outputs": [],
   "source": []
  }
 ],
 "metadata": {
  "kernelspec": {
   "display_name": "enhancer_promoter_model",
   "language": "python",
   "name": "enhancer_promoter_model"
  },
  "language_info": {
   "codemirror_mode": {
    "name": "ipython",
    "version": 3
   },
   "file_extension": ".py",
   "mimetype": "text/x-python",
   "name": "python",
   "nbconvert_exporter": "python",
   "pygments_lexer": "ipython3",
   "version": "3.9.6"
  }
 },
 "nbformat": 4,
 "nbformat_minor": 5
}
