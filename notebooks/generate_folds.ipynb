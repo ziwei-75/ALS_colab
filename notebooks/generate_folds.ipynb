{
 "cells": [
  {
   "cell_type": "code",
   "execution_count": 1,
   "metadata": {},
   "outputs": [],
   "source": [
    "import sklearn\n",
    "from sklearn.model_selection import KFold\n"
   ]
  },
  {
   "cell_type": "code",
   "execution_count": 12,
   "metadata": {},
   "outputs": [],
   "source": [
    "import pandas as pd\n",
    "chromo_sizes=\"/oak/stanford/groups/akundaje/ziwei75/atac_seq_pipeline/mm10/mm10_no_alt.chrom.sizes.tsv\"\n",
    "chromo_sizes=open(chromo_sizes).readlines()"
   ]
  },
  {
   "cell_type": "code",
   "execution_count": 17,
   "metadata": {},
   "outputs": [],
   "source": [
    "chromo_list = []\n",
    "for r in chromo_sizes:\n",
    "    r = r.split(\"\\t\")\n",
    "    if 'random' in r[0] or 'chrUn' in r[0]:\n",
    "        continue\n",
    "    else:\n",
    "        chromo_list += [r[0]]"
   ]
  },
  {
   "cell_type": "code",
   "execution_count": 44,
   "metadata": {
    "scrolled": true
   },
   "outputs": [],
   "source": [
    "import random\n",
    "fold_splits = []\n",
    "for train, val in KFold(shuffle=True,random_state=42).split(chromo_list):\n",
    "    train_val_chromosomes = [chromo_list[i] for i in train]\n",
    "    test_chromosomes = [chromo_list[i] for i in val]\n",
    "    random.shuffle(train_val_chromosomes)\n",
    "    \n",
    "    length = len(train_val_chromosomes)\n",
    "    train_length = int(0.8 * length)\n",
    "    train_chromosomes = train_val_chromosomes[:train_length]\n",
    "    val_chromosomes = train_val_chromosomes[train_length:]\n",
    "\n",
    "    \n",
    "    fold_splits += [(train_chromosomes,val_chromosomes,test_chromosomes)]"
   ]
  },
  {
   "cell_type": "code",
   "execution_count": 47,
   "metadata": {},
   "outputs": [],
   "source": [
    "import json\n",
    "for i in range(len(fold_splits)):\n",
    "    fold_dict = {\"train\":fold_splits[i][0],\\\n",
    "                \"valid\":fold_splits[i][1],\\\n",
    "                \"test\":fold_splits[i][2]}\n",
    "    json_object = json.dumps(fold_dict, indent=4)\n",
    "    \n",
    "    \n",
    "    # Writing to sample.json\n",
    "    with open(\"/oak/stanford/groups/akundaje/ziwei75/ALS_colab/folds/fold_%s.json\"%i, \"w\") as outfile:\n",
    "        outfile.write(json_object)"
   ]
  },
  {
   "cell_type": "code",
   "execution_count": 50,
   "metadata": {},
   "outputs": [],
   "source": [
    "test_chromsomes = []\n",
    "for fold in fold_splits:\n",
    "    test_chromsomes += fold[2]\n",
    "    "
   ]
  },
  {
   "cell_type": "code",
   "execution_count": 52,
   "metadata": {},
   "outputs": [
    {
     "data": {
      "text/plain": [
       "True"
      ]
     },
     "execution_count": 52,
     "metadata": {},
     "output_type": "execute_result"
    }
   ],
   "source": [
    "len(test_chromsomes) == len(set(test_chromsomes))"
   ]
  },
  {
   "cell_type": "code",
   "execution_count": 54,
   "metadata": {},
   "outputs": [
    {
     "data": {
      "text/plain": [
       "True"
      ]
     },
     "execution_count": 54,
     "metadata": {},
     "output_type": "execute_result"
    }
   ],
   "source": [
    "len(test_chromsomes) == len(chromo_list)"
   ]
  },
  {
   "cell_type": "code",
   "execution_count": 57,
   "metadata": {},
   "outputs": [],
   "source": [
    "\n",
    "for fold in fold_splits:\n",
    "    train = fold[0]\n",
    "    val = fold[1]\n",
    "    test = fold[2]\n",
    "    \n",
    "    for t in train:\n",
    "        assert t not in val\n",
    "        assert t not in test\n",
    "        \n",
    "    for v in val:\n",
    "        assert v not in train\n",
    "        assert v not in test\n",
    "        \n",
    "    for t in test:\n",
    "        assert t not in train\n",
    "        assert t not in val"
   ]
  },
  {
   "cell_type": "code",
   "execution_count": null,
   "metadata": {},
   "outputs": [],
   "source": []
  }
 ],
 "metadata": {
  "kernelspec": {
   "display_name": "enhancer_promoter_model",
   "language": "python",
   "name": "enhancer_promoter_model"
  },
  "language_info": {
   "codemirror_mode": {
    "name": "ipython",
    "version": 3
   },
   "file_extension": ".py",
   "mimetype": "text/x-python",
   "name": "python",
   "nbconvert_exporter": "python",
   "pygments_lexer": "ipython3",
   "version": "3.9.6"
  }
 },
 "nbformat": 4,
 "nbformat_minor": 2
}
