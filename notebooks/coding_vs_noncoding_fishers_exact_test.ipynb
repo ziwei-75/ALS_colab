{
 "cells": [
  {
   "cell_type": "markdown",
   "metadata": {},
   "source": [
    "### test old and new average table"
   ]
  },
  {
   "cell_type": "code",
   "execution_count": null,
   "metadata": {},
   "outputs": [],
   "source": [
    "import pandas as pd\n",
    "previous_avg=pd.read_csv(\"../output/variant_scoring/alpha_control/vanRheene_2021_250kb_from_lead_averaged.variant_scores.tsv\",\\\n",
    "           sep='\\t')"
   ]
  },
  {
   "cell_type": "code",
   "execution_count": 11,
   "metadata": {},
   "outputs": [],
   "source": [
    "average_table=pd.read_csv(\"../output/variant_scoring/alpha_control/vanRheene_2021_250kb_from_lead.mean.variant_scores.tsv\",\\\n",
    "                         sep='\\t')"
   ]
  },
  {
   "cell_type": "code",
   "execution_count": 25,
   "metadata": {},
   "outputs": [],
   "source": [
    "merged_table=pd.merge(previous_avg,average_table,on='variant_id')"
   ]
  },
  {
   "cell_type": "code",
   "execution_count": 28,
   "metadata": {},
   "outputs": [],
   "source": [
    "for i, row in merged_table.iterrows():\n",
    "    assert row['logfc'] - row['logfc.mean'] < 0.001\n",
    "    assert row['jsd'] - row['jsd.mean'] < 0.001\n",
    "    assert row['abs_logfc'] - row['abs_logfc.mean'] < 0.001"
   ]
  },
  {
   "cell_type": "markdown",
   "metadata": {},
   "source": [
    "### check coding vs noncoding table"
   ]
  },
  {
   "cell_type": "code",
   "execution_count": 1,
   "metadata": {},
   "outputs": [],
   "source": [
    "import pandas as pd\n",
    "### pval <= 5e-8\n",
    "\n"
   ]
  },
  {
   "cell_type": "code",
   "execution_count": 47,
   "metadata": {
    "scrolled": true
   },
   "outputs": [],
   "source": [
    "def get_lead_variant_table(flank_size=250000):\n",
    "    gwas_results = pd.read_csv(\"/oak/stanford/groups/akundaje/ziwei75/ALS_colab/sod1_project/variant_file/vanRheene_2021_summary_stats_hg38.csv\")\n",
    "    lead_variants=[['chr9',27563868,'rs2453555'],\n",
    "                  ['chr19',17752689,'rs12608932'],\n",
    "                  ['chr21',33039603,'rs80265967'],\n",
    "                  ['chr14',31045596,'rs229195'],\n",
    "                  ['chr3',39508968,'rs631312'],\n",
    "                  ['chr6',32672641,'rs9275477'],\n",
    "                  ['chr12',57975700,'rs113247976'],\n",
    "                  ['chr21',45753117,'rs75087725'],\n",
    "                  ['chr5',150410835,'rs10463311'],\n",
    "                   ['chr20',48438761,'rs17785991'],\n",
    "                   ['chr12',64877053,'rs4075094'],\n",
    "                   ['chr5',172354731,'rs517339'],\n",
    "                   ['chr4',170583157,'rs62333164'],\n",
    "                   ['chr13',46113984,'rs2985994'],\n",
    "                   ['chr7',157481780,'rs10280711']]\n",
    "\n",
    "    coding_variants=[['chr21',33039603,'rs80265967'],\n",
    "                    ['chr12',57975700,'rs113247976'],\n",
    "                    ['chr21',45753117,'rs75087725']]\n",
    "\n",
    "    noncoding_variants=[['chr14',31045596,'rs229195'],\n",
    "                       ['chr3',39508968,'rs631312'],\n",
    "                       ['chr5',150410835,'rs10463311'],\n",
    "                       ['chr20',48438761,'rs17785991'],\n",
    "                       ['chr5',172354731,'rs517339'],\n",
    "                       ['chr13',46113984,'rs2985994'],\n",
    "                       ['chr7',157481780,'rs10280711']]\n",
    "\n",
    "    total_filtered_results=[]\n",
    "    for chromo,hg17_pos,rsid in lead_variants:\n",
    "        row = gwas_results[gwas_results['rsid'] == rsid]\n",
    "        assert chromo == row['chr'].values\n",
    "        assert hg17_pos == row['pos'].values\n",
    "\n",
    "        pos = row['start'].values[0]\n",
    "        pos = pos - 1\n",
    "\n",
    "        ### get all variants +/- 250kb from lead variants\n",
    "        start = pos - flank_size\n",
    "        end = pos + flank_size\n",
    "        filtered_results = gwas_results[(gwas_results['chr'] == chromo) & (gwas_results['start'] > start) & (gwas_results['end'] < end)]\n",
    "        filtered_results['lead_variant'] = rsid\n",
    "        total_filtered_results += [filtered_results]\n",
    "    lead_variant_table=pd.concat(total_filtered_results)[['rsid','lead_variant']]\n",
    "    lead_variant_table=lead_variant_table.rename({'rsid':'variant_id'},axis=1)\n",
    "    return lead_variant_table"
   ]
  },
  {
   "cell_type": "code",
   "execution_count": 267,
   "metadata": {},
   "outputs": [],
   "source": [
    "average_table=pd.read_csv(\"../output/variant_scoring/alpha_control/vanRheene_2021_250kb_from_lead.mean.variant_scores.tsv\",\\\n",
    "                         sep='\\t')"
   ]
  },
  {
   "cell_type": "code",
   "execution_count": 268,
   "metadata": {},
   "outputs": [
    {
     "data": {
      "text/plain": [
       "29575"
      ]
     },
     "execution_count": 268,
     "metadata": {},
     "output_type": "execute_result"
    }
   ],
   "source": [
    "average_table=pd.merge(average_table,lead_variant_table,on=['variant_id'])\n",
    "len(average_table)"
   ]
  },
  {
   "cell_type": "code",
   "execution_count": 270,
   "metadata": {},
   "outputs": [],
   "source": [
    "significant_variants=average_table[(average_table['logfc.mean.pval'] < 0.01)]"
   ]
  },
  {
   "cell_type": "code",
   "execution_count": 271,
   "metadata": {},
   "outputs": [
    {
     "data": {
      "text/plain": [
       "198"
      ]
     },
     "execution_count": 271,
     "metadata": {},
     "output_type": "execute_result"
    }
   ],
   "source": [
    "len(significant_variants)"
   ]
  },
  {
   "cell_type": "code",
   "execution_count": 272,
   "metadata": {
    "scrolled": true
   },
   "outputs": [],
   "source": [
    "total_coding_var, significant_coding_var = 0,0\n",
    "for _,_,var in coding_variants:\n",
    "    total_coding_var += len(average_table[average_table['lead_variant'] == var])\n",
    "    significant_coding_var += len(significant_variants[significant_variants['lead_variant'] == var])\n"
   ]
  },
  {
   "cell_type": "code",
   "execution_count": 273,
   "metadata": {},
   "outputs": [
    {
     "data": {
      "text/plain": [
       "(5111, 29)"
      ]
     },
     "execution_count": 273,
     "metadata": {},
     "output_type": "execute_result"
    }
   ],
   "source": [
    "total_coding_var,significant_coding_var"
   ]
  },
  {
   "cell_type": "code",
   "execution_count": 274,
   "metadata": {},
   "outputs": [],
   "source": [
    "total_noncoding_var, significant_noncoding_var = 0,0\n",
    "for _,_,var in noncoding_variants:\n",
    "    total_noncoding_var += len(average_table[average_table['lead_variant'] == var])\n",
    "    significant_noncoding_var += len(significant_variants[significant_variants['lead_variant'] == var])\n"
   ]
  },
  {
   "cell_type": "code",
   "execution_count": 275,
   "metadata": {},
   "outputs": [
    {
     "data": {
      "text/plain": [
       "(13896, 92)"
      ]
     },
     "execution_count": 275,
     "metadata": {},
     "output_type": "execute_result"
    }
   ],
   "source": [
    "total_noncoding_var,significant_noncoding_var"
   ]
  },
  {
   "cell_type": "code",
   "execution_count": 276,
   "metadata": {},
   "outputs": [],
   "source": [
    "data = [[total_coding_var-significant_coding_var,total_noncoding_var-significant_noncoding_var],\n",
    "       [significant_coding_var,significant_noncoding_var]]"
   ]
  },
  {
   "cell_type": "code",
   "execution_count": 277,
   "metadata": {},
   "outputs": [],
   "source": [
    "data=pd.DataFrame(data)"
   ]
  },
  {
   "cell_type": "code",
   "execution_count": 282,
   "metadata": {},
   "outputs": [],
   "source": [
    "data.columns=['coding','noncoding']"
   ]
  },
  {
   "cell_type": "code",
   "execution_count": 284,
   "metadata": {},
   "outputs": [],
   "source": [
    "data.index=['non-significant','significant']"
   ]
  },
  {
   "cell_type": "code",
   "execution_count": 285,
   "metadata": {},
   "outputs": [
    {
     "data": {
      "text/html": [
       "<div>\n",
       "<style scoped>\n",
       "    .dataframe tbody tr th:only-of-type {\n",
       "        vertical-align: middle;\n",
       "    }\n",
       "\n",
       "    .dataframe tbody tr th {\n",
       "        vertical-align: top;\n",
       "    }\n",
       "\n",
       "    .dataframe thead th {\n",
       "        text-align: right;\n",
       "    }\n",
       "</style>\n",
       "<table border=\"1\" class=\"dataframe\">\n",
       "  <thead>\n",
       "    <tr style=\"text-align: right;\">\n",
       "      <th></th>\n",
       "      <th>coding</th>\n",
       "      <th>noncoding</th>\n",
       "    </tr>\n",
       "  </thead>\n",
       "  <tbody>\n",
       "    <tr>\n",
       "      <th>non-significant</th>\n",
       "      <td>5082</td>\n",
       "      <td>13804</td>\n",
       "    </tr>\n",
       "    <tr>\n",
       "      <th>significant</th>\n",
       "      <td>29</td>\n",
       "      <td>92</td>\n",
       "    </tr>\n",
       "  </tbody>\n",
       "</table>\n",
       "</div>"
      ],
      "text/plain": [
       "                 coding  noncoding\n",
       "non-significant    5082      13804\n",
       "significant          29         92"
      ]
     },
     "execution_count": 285,
     "metadata": {},
     "output_type": "execute_result"
    }
   ],
   "source": [
    "data"
   ]
  },
  {
   "cell_type": "code",
   "execution_count": 286,
   "metadata": {},
   "outputs": [
    {
     "name": "stdout",
     "output_type": "stream",
     "text": [
      "1.1679373295096873 0.5372808717201982\n"
     ]
    }
   ],
   "source": [
    "import scipy.stats as stats\n",
    "odd_ratio, p_value = stats.fisher_exact(data)\n",
    "print(odd_ratio, p_value)"
   ]
  },
  {
   "cell_type": "code",
   "execution_count": 287,
   "metadata": {},
   "outputs": [
    {
     "data": {
      "text/html": [
       "<div>\n",
       "<style scoped>\n",
       "    .dataframe tbody tr th:only-of-type {\n",
       "        vertical-align: middle;\n",
       "    }\n",
       "\n",
       "    .dataframe tbody tr th {\n",
       "        vertical-align: top;\n",
       "    }\n",
       "\n",
       "    .dataframe thead th {\n",
       "        text-align: right;\n",
       "    }\n",
       "</style>\n",
       "<table border=\"1\" class=\"dataframe\">\n",
       "  <thead>\n",
       "    <tr style=\"text-align: right;\">\n",
       "      <th></th>\n",
       "      <th>coding</th>\n",
       "      <th>noncoding</th>\n",
       "    </tr>\n",
       "  </thead>\n",
       "  <tbody>\n",
       "    <tr>\n",
       "      <th>non-significant</th>\n",
       "      <td>5082</td>\n",
       "      <td>13804</td>\n",
       "    </tr>\n",
       "    <tr>\n",
       "      <th>significant</th>\n",
       "      <td>29</td>\n",
       "      <td>92</td>\n",
       "    </tr>\n",
       "  </tbody>\n",
       "</table>\n",
       "</div>"
      ],
      "text/plain": [
       "                 coding  noncoding\n",
       "non-significant    5082      13804\n",
       "significant          29         92"
      ]
     },
     "execution_count": 287,
     "metadata": {},
     "output_type": "execute_result"
    }
   ],
   "source": [
    "data"
   ]
  },
  {
   "cell_type": "markdown",
   "metadata": {},
   "source": [
    "### test using human in vitro data"
   ]
  },
  {
   "cell_type": "code",
   "execution_count": 83,
   "metadata": {
    "scrolled": true
   },
   "outputs": [
    {
     "name": "stderr",
     "output_type": "stream",
     "text": [
      "/tmp/ipykernel_291438/1781069196.py:44: SettingWithCopyWarning: \n",
      "A value is trying to be set on a copy of a slice from a DataFrame.\n",
      "Try using .loc[row_indexer,col_indexer] = value instead\n",
      "\n",
      "See the caveats in the documentation: https://pandas.pydata.org/pandas-docs/stable/user_guide/indexing.html#returning-a-view-versus-a-copy\n",
      "  filtered_results['lead_variant'] = rsid\n",
      "/tmp/ipykernel_291438/1781069196.py:44: SettingWithCopyWarning: \n",
      "A value is trying to be set on a copy of a slice from a DataFrame.\n",
      "Try using .loc[row_indexer,col_indexer] = value instead\n",
      "\n",
      "See the caveats in the documentation: https://pandas.pydata.org/pandas-docs/stable/user_guide/indexing.html#returning-a-view-versus-a-copy\n",
      "  filtered_results['lead_variant'] = rsid\n",
      "/tmp/ipykernel_291438/1781069196.py:44: SettingWithCopyWarning: \n",
      "A value is trying to be set on a copy of a slice from a DataFrame.\n",
      "Try using .loc[row_indexer,col_indexer] = value instead\n",
      "\n",
      "See the caveats in the documentation: https://pandas.pydata.org/pandas-docs/stable/user_guide/indexing.html#returning-a-view-versus-a-copy\n",
      "  filtered_results['lead_variant'] = rsid\n",
      "/tmp/ipykernel_291438/1781069196.py:44: SettingWithCopyWarning: \n",
      "A value is trying to be set on a copy of a slice from a DataFrame.\n",
      "Try using .loc[row_indexer,col_indexer] = value instead\n",
      "\n",
      "See the caveats in the documentation: https://pandas.pydata.org/pandas-docs/stable/user_guide/indexing.html#returning-a-view-versus-a-copy\n",
      "  filtered_results['lead_variant'] = rsid\n",
      "/tmp/ipykernel_291438/1781069196.py:44: SettingWithCopyWarning: \n",
      "A value is trying to be set on a copy of a slice from a DataFrame.\n",
      "Try using .loc[row_indexer,col_indexer] = value instead\n",
      "\n",
      "See the caveats in the documentation: https://pandas.pydata.org/pandas-docs/stable/user_guide/indexing.html#returning-a-view-versus-a-copy\n",
      "  filtered_results['lead_variant'] = rsid\n",
      "/tmp/ipykernel_291438/1781069196.py:44: SettingWithCopyWarning: \n",
      "A value is trying to be set on a copy of a slice from a DataFrame.\n",
      "Try using .loc[row_indexer,col_indexer] = value instead\n",
      "\n",
      "See the caveats in the documentation: https://pandas.pydata.org/pandas-docs/stable/user_guide/indexing.html#returning-a-view-versus-a-copy\n",
      "  filtered_results['lead_variant'] = rsid\n",
      "/tmp/ipykernel_291438/1781069196.py:44: SettingWithCopyWarning: \n",
      "A value is trying to be set on a copy of a slice from a DataFrame.\n",
      "Try using .loc[row_indexer,col_indexer] = value instead\n",
      "\n",
      "See the caveats in the documentation: https://pandas.pydata.org/pandas-docs/stable/user_guide/indexing.html#returning-a-view-versus-a-copy\n",
      "  filtered_results['lead_variant'] = rsid\n",
      "/tmp/ipykernel_291438/1781069196.py:44: SettingWithCopyWarning: \n",
      "A value is trying to be set on a copy of a slice from a DataFrame.\n",
      "Try using .loc[row_indexer,col_indexer] = value instead\n",
      "\n",
      "See the caveats in the documentation: https://pandas.pydata.org/pandas-docs/stable/user_guide/indexing.html#returning-a-view-versus-a-copy\n",
      "  filtered_results['lead_variant'] = rsid\n",
      "/tmp/ipykernel_291438/1781069196.py:44: SettingWithCopyWarning: \n",
      "A value is trying to be set on a copy of a slice from a DataFrame.\n",
      "Try using .loc[row_indexer,col_indexer] = value instead\n",
      "\n",
      "See the caveats in the documentation: https://pandas.pydata.org/pandas-docs/stable/user_guide/indexing.html#returning-a-view-versus-a-copy\n",
      "  filtered_results['lead_variant'] = rsid\n",
      "/tmp/ipykernel_291438/1781069196.py:44: SettingWithCopyWarning: \n",
      "A value is trying to be set on a copy of a slice from a DataFrame.\n",
      "Try using .loc[row_indexer,col_indexer] = value instead\n",
      "\n",
      "See the caveats in the documentation: https://pandas.pydata.org/pandas-docs/stable/user_guide/indexing.html#returning-a-view-versus-a-copy\n",
      "  filtered_results['lead_variant'] = rsid\n",
      "/tmp/ipykernel_291438/1781069196.py:44: SettingWithCopyWarning: \n",
      "A value is trying to be set on a copy of a slice from a DataFrame.\n",
      "Try using .loc[row_indexer,col_indexer] = value instead\n",
      "\n",
      "See the caveats in the documentation: https://pandas.pydata.org/pandas-docs/stable/user_guide/indexing.html#returning-a-view-versus-a-copy\n",
      "  filtered_results['lead_variant'] = rsid\n",
      "/tmp/ipykernel_291438/1781069196.py:44: SettingWithCopyWarning: \n",
      "A value is trying to be set on a copy of a slice from a DataFrame.\n",
      "Try using .loc[row_indexer,col_indexer] = value instead\n",
      "\n",
      "See the caveats in the documentation: https://pandas.pydata.org/pandas-docs/stable/user_guide/indexing.html#returning-a-view-versus-a-copy\n",
      "  filtered_results['lead_variant'] = rsid\n",
      "/tmp/ipykernel_291438/1781069196.py:44: SettingWithCopyWarning: \n",
      "A value is trying to be set on a copy of a slice from a DataFrame.\n",
      "Try using .loc[row_indexer,col_indexer] = value instead\n",
      "\n",
      "See the caveats in the documentation: https://pandas.pydata.org/pandas-docs/stable/user_guide/indexing.html#returning-a-view-versus-a-copy\n",
      "  filtered_results['lead_variant'] = rsid\n",
      "/tmp/ipykernel_291438/1781069196.py:44: SettingWithCopyWarning: \n",
      "A value is trying to be set on a copy of a slice from a DataFrame.\n",
      "Try using .loc[row_indexer,col_indexer] = value instead\n",
      "\n",
      "See the caveats in the documentation: https://pandas.pydata.org/pandas-docs/stable/user_guide/indexing.html#returning-a-view-versus-a-copy\n",
      "  filtered_results['lead_variant'] = rsid\n",
      "/tmp/ipykernel_291438/1781069196.py:44: SettingWithCopyWarning: \n",
      "A value is trying to be set on a copy of a slice from a DataFrame.\n",
      "Try using .loc[row_indexer,col_indexer] = value instead\n",
      "\n",
      "See the caveats in the documentation: https://pandas.pydata.org/pandas-docs/stable/user_guide/indexing.html#returning-a-view-versus-a-copy\n",
      "  filtered_results['lead_variant'] = rsid\n"
     ]
    }
   ],
   "source": [
    "average_table=pd.read_csv(\"../output/variant_scoring/answer_als/vanRheene_2021_250kb_from_lead.mean.variant_scores.tsv\",\\\n",
    "                         sep='\\t')\n",
    "\n",
    "lead_variant_table = get_lead_variant_table(10000)\n",
    "average_table=pd.merge(average_table,lead_variant_table,on=['variant_id'])"
   ]
  },
  {
   "cell_type": "code",
   "execution_count": 84,
   "metadata": {},
   "outputs": [],
   "source": [
    "\n",
    "significant_variants=average_table[(average_table['logfc.mean.pval'] < 0.05)]"
   ]
  },
  {
   "cell_type": "code",
   "execution_count": 85,
   "metadata": {
    "scrolled": true
   },
   "outputs": [],
   "source": [
    "total_coding_var, significant_coding_var = 0,0\n",
    "for _,_,var in coding_variants:\n",
    "    total_coding_var += len(average_table[average_table['lead_variant'] == var])\n",
    "    significant_coding_var += len(significant_variants[significant_variants['lead_variant'] == var])\n",
    "\n",
    "total_noncoding_var, significant_noncoding_var = 0,0\n",
    "for _,_,var in noncoding_variants:\n",
    "    total_noncoding_var += len(average_table[average_table['lead_variant'] == var])\n",
    "    significant_noncoding_var += len(significant_variants[significant_variants['lead_variant'] == var])\n"
   ]
  },
  {
   "cell_type": "code",
   "execution_count": 86,
   "metadata": {},
   "outputs": [
    {
     "data": {
      "text/plain": [
       "(656, 21)"
      ]
     },
     "execution_count": 86,
     "metadata": {},
     "output_type": "execute_result"
    }
   ],
   "source": [
    "total_noncoding_var,significant_noncoding_var"
   ]
  },
  {
   "cell_type": "code",
   "execution_count": 87,
   "metadata": {},
   "outputs": [],
   "source": [
    "data = [[total_coding_var-significant_coding_var,total_noncoding_var-significant_noncoding_var],\n",
    "       [significant_coding_var,significant_noncoding_var]]\n",
    "data=pd.DataFrame(data)\n",
    "data.columns=['coding','noncoding']\n",
    "data.index=['non-significant','significant']"
   ]
  },
  {
   "cell_type": "code",
   "execution_count": 88,
   "metadata": {},
   "outputs": [
    {
     "name": "stdout",
     "output_type": "stream",
     "text": [
      "0.9788976377952756 1.0\n"
     ]
    },
    {
     "data": {
      "text/html": [
       "<div>\n",
       "<style scoped>\n",
       "    .dataframe tbody tr th:only-of-type {\n",
       "        vertical-align: middle;\n",
       "    }\n",
       "\n",
       "    .dataframe tbody tr th {\n",
       "        vertical-align: top;\n",
       "    }\n",
       "\n",
       "    .dataframe thead th {\n",
       "        text-align: right;\n",
       "    }\n",
       "</style>\n",
       "<table border=\"1\" class=\"dataframe\">\n",
       "  <thead>\n",
       "    <tr style=\"text-align: right;\">\n",
       "      <th></th>\n",
       "      <th>coding</th>\n",
       "      <th>noncoding</th>\n",
       "    </tr>\n",
       "  </thead>\n",
       "  <tbody>\n",
       "    <tr>\n",
       "      <th>non-significant</th>\n",
       "      <td>148</td>\n",
       "      <td>635</td>\n",
       "    </tr>\n",
       "    <tr>\n",
       "      <th>significant</th>\n",
       "      <td>5</td>\n",
       "      <td>21</td>\n",
       "    </tr>\n",
       "  </tbody>\n",
       "</table>\n",
       "</div>"
      ],
      "text/plain": [
       "                 coding  noncoding\n",
       "non-significant     148        635\n",
       "significant           5         21"
      ]
     },
     "execution_count": 88,
     "metadata": {},
     "output_type": "execute_result"
    }
   ],
   "source": [
    "import scipy.stats as stats\n",
    "odd_ratio, p_value = stats.fisher_exact(data)\n",
    "print(odd_ratio, p_value)\n",
    "data"
   ]
  },
  {
   "cell_type": "code",
   "execution_count": null,
   "metadata": {},
   "outputs": [],
   "source": []
  },
  {
   "cell_type": "code",
   "execution_count": null,
   "metadata": {},
   "outputs": [],
   "source": []
  }
 ],
 "metadata": {
  "kernelspec": {
   "display_name": "enhancer_promoter_model",
   "language": "python",
   "name": "enhancer_promoter_model"
  },
  "language_info": {
   "codemirror_mode": {
    "name": "ipython",
    "version": 3
   },
   "file_extension": ".py",
   "mimetype": "text/x-python",
   "name": "python",
   "nbconvert_exporter": "python",
   "pygments_lexer": "ipython3",
   "version": "3.9.6"
  }
 },
 "nbformat": 4,
 "nbformat_minor": 5
}
